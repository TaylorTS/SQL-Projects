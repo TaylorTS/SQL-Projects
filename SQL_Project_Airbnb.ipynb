{
  "nbformat": 4,
  "nbformat_minor": 0,
  "metadata": {
    "colab": {
      "provenance": [],
      "toc_visible": true
    },
    "kernelspec": {
      "name": "python3",
      "display_name": "Python 3"
    },
    "language_info": {
      "name": "python"
    }
  },
  "cells": [
    {
      "cell_type": "code",
      "source": [
        "# The dataset used in this project was downloaded from http://insideairbnb.com.\n",
        "# using pandas to read in the dataset\n",
        "import pandas as pd\n",
        "df = pd.read_csv('/content/Ash_listing.csv') \n",
        "pd.set_option('display.max_columns', None)\n",
        "pd.set_option('display.max_rows', 5)"
      ],
      "metadata": {
        "id": "N8R-KMN1bMZr"
      },
      "execution_count": 214,
      "outputs": []
    },
    {
      "cell_type": "code",
      "source": [
        "#check the dataframe\n",
        "df.info()\n",
        "df.index\n",
        "df.columns"
      ],
      "metadata": {
        "colab": {
          "base_uri": "https://localhost:8080/"
        },
        "id": "lPSWI0iOcX14",
        "outputId": "f13a2474-9642-4c1b-c6f6-d336d3626546"
      },
      "execution_count": 215,
      "outputs": [
        {
          "output_type": "stream",
          "name": "stdout",
          "text": [
            "<class 'pandas.core.frame.DataFrame'>\n",
            "RangeIndex: 3009 entries, 0 to 3008\n",
            "Data columns (total 75 columns):\n",
            " #   Column                                        Non-Null Count  Dtype  \n",
            "---  ------                                        --------------  -----  \n",
            " 0   id                                            3009 non-null   int64  \n",
            " 1   listing_url                                   3009 non-null   object \n",
            " 2   scrape_id                                     3009 non-null   int64  \n",
            " 3   last_scraped                                  3009 non-null   object \n",
            " 4   source                                        3009 non-null   object \n",
            " 5   name                                          3009 non-null   object \n",
            " 6   description                                   3004 non-null   object \n",
            " 7   neighborhood_overview                         2290 non-null   object \n",
            " 8   picture_url                                   3009 non-null   object \n",
            " 9   host_id                                       3009 non-null   int64  \n",
            " 10  host_url                                      3009 non-null   object \n",
            " 11  host_name                                     3009 non-null   object \n",
            " 12  host_since                                    3009 non-null   object \n",
            " 13  host_location                                 2604 non-null   object \n",
            " 14  host_about                                    1929 non-null   object \n",
            " 15  host_response_time                            2722 non-null   object \n",
            " 16  host_response_rate                            2722 non-null   object \n",
            " 17  host_acceptance_rate                          2850 non-null   object \n",
            " 18  host_is_superhost                             3009 non-null   object \n",
            " 19  host_thumbnail_url                            3009 non-null   object \n",
            " 20  host_picture_url                              3009 non-null   object \n",
            " 21  host_neighbourhood                            925 non-null    object \n",
            " 22  host_listings_count                           3009 non-null   int64  \n",
            " 23  host_total_listings_count                     3009 non-null   int64  \n",
            " 24  host_verifications                            3009 non-null   object \n",
            " 25  host_has_profile_pic                          3009 non-null   object \n",
            " 26  host_identity_verified                        3009 non-null   object \n",
            " 27  neighbourhood                                 2291 non-null   object \n",
            " 28  neighbourhood_cleansed                        3009 non-null   int64  \n",
            " 29  neighbourhood_group_cleansed                  0 non-null      float64\n",
            " 30  latitude                                      3009 non-null   float64\n",
            " 31  longitude                                     3009 non-null   float64\n",
            " 32  property_type                                 3009 non-null   object \n",
            " 33  room_type                                     3009 non-null   object \n",
            " 34  accommodates                                  3009 non-null   int64  \n",
            " 35  bathrooms                                     0 non-null      float64\n",
            " 36  bathrooms_text                                3008 non-null   object \n",
            " 37  bedrooms                                      2850 non-null   float64\n",
            " 38  beds                                          2980 non-null   float64\n",
            " 39  amenities                                     3009 non-null   object \n",
            " 40  price                                         3009 non-null   object \n",
            " 41  minimum_nights                                3009 non-null   int64  \n",
            " 42  maximum_nights                                3009 non-null   int64  \n",
            " 43  minimum_minimum_nights                        3009 non-null   int64  \n",
            " 44  maximum_minimum_nights                        3009 non-null   int64  \n",
            " 45  minimum_maximum_nights                        3009 non-null   int64  \n",
            " 46  maximum_maximum_nights                        3009 non-null   int64  \n",
            " 47  minimum_nights_avg_ntm                        3009 non-null   float64\n",
            " 48  maximum_nights_avg_ntm                        3009 non-null   float64\n",
            " 49  calendar_updated                              0 non-null      float64\n",
            " 50  has_availability                              3009 non-null   object \n",
            " 51  availability_30                               3009 non-null   int64  \n",
            " 52  availability_60                               3009 non-null   int64  \n",
            " 53  availability_90                               3009 non-null   int64  \n",
            " 54  availability_365                              3009 non-null   int64  \n",
            " 55  calendar_last_scraped                         3009 non-null   object \n",
            " 56  number_of_reviews                             3009 non-null   int64  \n",
            " 57  number_of_reviews_ltm                         3009 non-null   int64  \n",
            " 58  number_of_reviews_l30d                        3009 non-null   int64  \n",
            " 59  first_review                                  2817 non-null   object \n",
            " 60  last_review                                   2817 non-null   object \n",
            " 61  review_scores_rating                          2817 non-null   float64\n",
            " 62  review_scores_accuracy                        2816 non-null   float64\n",
            " 63  review_scores_cleanliness                     2816 non-null   float64\n",
            " 64  review_scores_checkin                         2816 non-null   float64\n",
            " 65  review_scores_communication                   2816 non-null   float64\n",
            " 66  review_scores_location                        2816 non-null   float64\n",
            " 67  review_scores_value                           2816 non-null   float64\n",
            " 68  license                                       0 non-null      float64\n",
            " 69  instant_bookable                              3009 non-null   object \n",
            " 70  calculated_host_listings_count                3009 non-null   int64  \n",
            " 71  calculated_host_listings_count_entire_homes   3009 non-null   int64  \n",
            " 72  calculated_host_listings_count_private_rooms  3009 non-null   int64  \n",
            " 73  calculated_host_listings_count_shared_rooms   3009 non-null   int64  \n",
            " 74  reviews_per_month                             2817 non-null   float64\n",
            "dtypes: float64(18), int64(24), object(33)\n",
            "memory usage: 1.7+ MB\n"
          ]
        },
        {
          "output_type": "execute_result",
          "data": {
            "text/plain": [
              "Index(['id', 'listing_url', 'scrape_id', 'last_scraped', 'source', 'name',\n",
              "       'description', 'neighborhood_overview', 'picture_url', 'host_id',\n",
              "       'host_url', 'host_name', 'host_since', 'host_location', 'host_about',\n",
              "       'host_response_time', 'host_response_rate', 'host_acceptance_rate',\n",
              "       'host_is_superhost', 'host_thumbnail_url', 'host_picture_url',\n",
              "       'host_neighbourhood', 'host_listings_count',\n",
              "       'host_total_listings_count', 'host_verifications',\n",
              "       'host_has_profile_pic', 'host_identity_verified', 'neighbourhood',\n",
              "       'neighbourhood_cleansed', 'neighbourhood_group_cleansed', 'latitude',\n",
              "       'longitude', 'property_type', 'room_type', 'accommodates', 'bathrooms',\n",
              "       'bathrooms_text', 'bedrooms', 'beds', 'amenities', 'price',\n",
              "       'minimum_nights', 'maximum_nights', 'minimum_minimum_nights',\n",
              "       'maximum_minimum_nights', 'minimum_maximum_nights',\n",
              "       'maximum_maximum_nights', 'minimum_nights_avg_ntm',\n",
              "       'maximum_nights_avg_ntm', 'calendar_updated', 'has_availability',\n",
              "       'availability_30', 'availability_60', 'availability_90',\n",
              "       'availability_365', 'calendar_last_scraped', 'number_of_reviews',\n",
              "       'number_of_reviews_ltm', 'number_of_reviews_l30d', 'first_review',\n",
              "       'last_review', 'review_scores_rating', 'review_scores_accuracy',\n",
              "       'review_scores_cleanliness', 'review_scores_checkin',\n",
              "       'review_scores_communication', 'review_scores_location',\n",
              "       'review_scores_value', 'license', 'instant_bookable',\n",
              "       'calculated_host_listings_count',\n",
              "       'calculated_host_listings_count_entire_homes',\n",
              "       'calculated_host_listings_count_private_rooms',\n",
              "       'calculated_host_listings_count_shared_rooms', 'reviews_per_month'],\n",
              "      dtype='object')"
            ]
          },
          "metadata": {},
          "execution_count": 215
        }
      ]
    },
    {
      "cell_type": "code",
      "source": [
        "#Remove the dollar signs in 'price'\n",
        "df['price'] = df['price'].str.replace('$', '').str.replace(',', '').astype(float)"
      ],
      "metadata": {
        "id": "c_fcfnE_yZQo"
      },
      "execution_count": null,
      "outputs": []
    },
    {
      "cell_type": "code",
      "source": [
        "df['price'][:10]"
      ],
      "metadata": {
        "colab": {
          "base_uri": "https://localhost:8080/"
        },
        "id": "aeeVRwWFmGoh",
        "outputId": "905f9a0d-8eb6-4b50-d567-7f43e3f0ad10"
      },
      "execution_count": 217,
      "outputs": [
        {
          "output_type": "execute_result",
          "data": {
            "text/plain": [
              "0    120.0\n",
              "1    100.0\n",
              "     ...  \n",
              "8    289.0\n",
              "9     88.0\n",
              "Name: price, Length: 10, dtype: float64"
            ]
          },
          "metadata": {},
          "execution_count": 217
        }
      ]
    },
    {
      "cell_type": "code",
      "source": [
        "#some fields are irrelevant for this project, so a few columns were dropped\n",
        "df_new = df.drop(['scrape_id', 'last_scraped', 'picture_url', 'host_id', \n",
        "         'host_url','host_thumbnail_url', 'host_picture_url', 'source'], axis = 1)"
      ],
      "metadata": {
        "id": "C2ZN0APjdDLz"
      },
      "execution_count": 218,
      "outputs": []
    },
    {
      "cell_type": "code",
      "source": [
        "#now that the dataset is ready to use, convert it into a sql table\n",
        "import sqlite3\n",
        "conn = sqlite3.connect('/df_new.db')\n",
        "df_new.to_sql('new', conn, if_exists='replace', index=False)"
      ],
      "metadata": {
        "id": "Op19YjiPjrj-"
      },
      "execution_count": 219,
      "outputs": []
    },
    {
      "cell_type": "code",
      "source": [
        "#execute sql queries-testing if the dataset has been converted successfully\n",
        "conn.execute(\"\"\"\n",
        "select id\n",
        "from new\n",
        "limit 5\n",
        "\"\"\").fetchall()"
      ],
      "metadata": {
        "colab": {
          "base_uri": "https://localhost:8080/"
        },
        "id": "RDdtUCywvq7a",
        "outputId": "f823c15b-70b7-4a1b-9b0b-c82fbd88b3ab"
      },
      "execution_count": 220,
      "outputs": [
        {
          "output_type": "execute_result",
          "data": {
            "text/plain": [
              "[(108061,), (155305,), (156805,), (156926,), (197263,)]"
            ]
          },
          "metadata": {},
          "execution_count": 220
        }
      ]
    },
    {
      "cell_type": "markdown",
      "source": [
        "Question 1: What property type is the most expensive property in this dataset? How much does it cost to rent this type of property on average?"
      ],
      "metadata": {
        "id": "wh-9R8_BzbUO"
      }
    },
    {
      "cell_type": "code",
      "source": [
        "#thought process: calculate the average price listing by property types. Round to 2 decimal places. \n",
        "#To save some space, only 15 rows are displayed.\n",
        "conn.execute(\"\"\"\n",
        "  select property_type, round(avg(price),2) as \"average_price\"\n",
        "  from new\n",
        "  group by property_type \n",
        "  order by average_price desc\n",
        "  limit 15\n",
        "\"\"\").fetchall()"
      ],
      "metadata": {
        "colab": {
          "base_uri": "https://localhost:8080/"
        },
        "id": "6yRq6JOMwe7z",
        "outputId": "1c00c604-ab48-4a26-99f4-00048b8c5290"
      },
      "execution_count": 221,
      "outputs": [
        {
          "output_type": "execute_result",
          "data": {
            "text/plain": [
              "[('Room in hotel', 1256.5),\n",
              " ('Entire cabin', 684.66),\n",
              " ('Room in boutique hotel', 647.61),\n",
              " ('Entire villa', 499.25),\n",
              " ('Room in bed and breakfast', 490.07),\n",
              " ('Entire chalet', 346.86),\n",
              " ('Private room in bed and breakfast', 341.85),\n",
              " ('Entire vacation home', 307.75),\n",
              " ('Treehouse', 273.33),\n",
              " ('Entire home', 272.84),\n",
              " ('Entire townhouse', 268.27),\n",
              " ('Entire loft', 265.13),\n",
              " ('Entire condo', 251.08),\n",
              " ('Shared room in rental unit', 250.0),\n",
              " ('Private room in hostel', 214.67)]"
            ]
          },
          "metadata": {},
          "execution_count": 221
        }
      ]
    },
    {
      "cell_type": "markdown",
      "source": [
        "Question 2: what type of property is the most reasonably priced?"
      ],
      "metadata": {
        "id": "3elVJhBG4iiX"
      }
    },
    {
      "cell_type": "code",
      "source": [
        "conn.execute(\"\"\"\n",
        "  select a.property_type\n",
        "  from (select property_type, round(avg(price),2) as 'average_price'\n",
        "        from new\n",
        "        group by property_type\n",
        "        order by average_price\n",
        "        limit 1) as a\n",
        "\"\"\").fetchall()"
      ],
      "metadata": {
        "colab": {
          "base_uri": "https://localhost:8080/"
        },
        "id": "GF8wiYyozxWH",
        "outputId": "aef4cc13-20b7-41a5-aaa2-0ae00c89f57d"
      },
      "execution_count": 222,
      "outputs": [
        {
          "output_type": "execute_result",
          "data": {
            "text/plain": [
              "[('Private room in hut',)]"
            ]
          },
          "metadata": {},
          "execution_count": 222
        }
      ]
    },
    {
      "cell_type": "markdown",
      "source": [
        "Question 3: I'd like to look for something immediately available for at least 5 nights and has the highest rating. Is it possible? If so, how much does it cost per night?"
      ],
      "metadata": {
        "id": "GGWxS65Livfj"
      }
    },
    {
      "cell_type": "code",
      "source": [
        "#A list of availabe listings can be retrieved from the following query. \n",
        "conn.execute(\"\"\"\n",
        "  select listing_url, host_name, review_scores_rating, price\n",
        "  from new\n",
        "  where instant_bookable = 't' and availability_30 >= 5\n",
        "  and review_scores_rating in (select max(review_scores_rating)\n",
        "                               from new\n",
        "                               where instant_bookable = 't' and availability_30 >= 5)\n",
        "  order by price\n",
        "\"\"\").fetchall()"
      ],
      "metadata": {
        "colab": {
          "base_uri": "https://localhost:8080/"
        },
        "id": "-c5BnHgPk5z4",
        "outputId": "76a07832-7576-4232-8cad-e6170be39b29"
      },
      "execution_count": 223,
      "outputs": [
        {
          "output_type": "execute_result",
          "data": {
            "text/plain": [
              "[('https://www.airbnb.com/rooms/38867480', 'Nicole', 5.0, 45.0),\n",
              " ('https://www.airbnb.com/rooms/647811956217699952', 'Alon', 5.0, 55.0),\n",
              " ('https://www.airbnb.com/rooms/46837010', 'Sam & Gordy', 5.0, 65.0),\n",
              " ('https://www.airbnb.com/rooms/50792460', 'Vernon', 5.0, 65.0),\n",
              " ('https://www.airbnb.com/rooms/53197970', 'Nicole', 5.0, 65.0),\n",
              " ('https://www.airbnb.com/rooms/631998910601981114', 'Laura', 5.0, 72.0),\n",
              " ('https://www.airbnb.com/rooms/24287936', 'David', 5.0, 75.0),\n",
              " ('https://www.airbnb.com/rooms/602348590325459976', 'Betsy', 5.0, 75.0),\n",
              " ('https://www.airbnb.com/rooms/676759193993863114',\n",
              "  'Paige & Nathan',\n",
              "  5.0,\n",
              "  75.0),\n",
              " ('https://www.airbnb.com/rooms/690077496342128940', 'Beth', 5.0, 75.0),\n",
              " ('https://www.airbnb.com/rooms/677353796235788057', 'Annie', 5.0, 79.0),\n",
              " ('https://www.airbnb.com/rooms/51284679', 'Lynn', 5.0, 80.0),\n",
              " ('https://www.airbnb.com/rooms/618615434156747025', 'Joy', 5.0, 81.0),\n",
              " ('https://www.airbnb.com/rooms/498553730281519631', 'Sabrina', 5.0, 82.0),\n",
              " ('https://www.airbnb.com/rooms/33776051', 'Stephanie', 5.0, 85.0),\n",
              " ('https://www.airbnb.com/rooms/626718578774555759', 'Ali', 5.0, 85.0),\n",
              " ('https://www.airbnb.com/rooms/627500017408762211', 'Mike', 5.0, 85.0),\n",
              " ('https://www.airbnb.com/rooms/47716279', 'Stephanie', 5.0, 86.0),\n",
              " ('https://www.airbnb.com/rooms/24873765', 'Chad', 5.0, 89.0),\n",
              " ('https://www.airbnb.com/rooms/48465967', 'Andrew', 5.0, 89.0),\n",
              " ('https://www.airbnb.com/rooms/649201649870300043', 'Cayce', 5.0, 90.0),\n",
              " ('https://www.airbnb.com/rooms/657798166209952221', 'Rachael', 5.0, 90.0),\n",
              " ('https://www.airbnb.com/rooms/647499312875397788', 'Evolve', 5.0, 91.0),\n",
              " ('https://www.airbnb.com/rooms/583180347593401019', 'Felicite', 5.0, 93.0),\n",
              " ('https://www.airbnb.com/rooms/21798869', 'Danya', 5.0, 95.0),\n",
              " ('https://www.airbnb.com/rooms/658106043154012154', 'Julie', 5.0, 96.0),\n",
              " ('https://www.airbnb.com/rooms/45996344', 'Dawn', 5.0, 98.0),\n",
              " ('https://www.airbnb.com/rooms/43398372', 'Nicole', 5.0, 99.0),\n",
              " ('https://www.airbnb.com/rooms/686088974677118082',\n",
              "  'Mark And Alayna',\n",
              "  5.0,\n",
              "  99.0),\n",
              " ('https://www.airbnb.com/rooms/12472966', 'Cindy', 5.0, 100.0),\n",
              " ('https://www.airbnb.com/rooms/23562622', 'The', 5.0, 100.0),\n",
              " ('https://www.airbnb.com/rooms/34396785', 'Adam And Claudia', 5.0, 100.0),\n",
              " ('https://www.airbnb.com/rooms/585978338904685433', 'James', 5.0, 100.0),\n",
              " ('https://www.airbnb.com/rooms/596178008430855191', 'Gino', 5.0, 100.0),\n",
              " ('https://www.airbnb.com/rooms/600094354578046472', 'Terry', 5.0, 100.0),\n",
              " ('https://www.airbnb.com/rooms/618110235047093838', 'Thomas', 5.0, 100.0),\n",
              " ('https://www.airbnb.com/rooms/642768690636158694', 'John Peter', 5.0, 100.0),\n",
              " ('https://www.airbnb.com/rooms/35609891', 'Pamela', 5.0, 101.0),\n",
              " ('https://www.airbnb.com/rooms/639735038599942695', 'Lisa', 5.0, 102.0),\n",
              " ('https://www.airbnb.com/rooms/40617579', 'Joan', 5.0, 103.0),\n",
              " ('https://www.airbnb.com/rooms/44573884', 'Christy', 5.0, 103.0),\n",
              " ('https://www.airbnb.com/rooms/651341965343771839',\n",
              "  'Bright Host',\n",
              "  5.0,\n",
              "  103.0),\n",
              " ('https://www.airbnb.com/rooms/671623902125220796', 'Jaime', 5.0, 104.0),\n",
              " ('https://www.airbnb.com/rooms/612803120046384828', 'Matilda', 5.0, 105.0),\n",
              " ('https://www.airbnb.com/rooms/616888515375292290', 'Angela', 5.0, 105.0),\n",
              " ('https://www.airbnb.com/rooms/666479554965878584', 'Lila', 5.0, 105.0),\n",
              " ('https://www.airbnb.com/rooms/678108726732495600', 'Luke', 5.0, 106.0),\n",
              " ('https://www.airbnb.com/rooms/618717801158457582',\n",
              "  'Jennifer And Kennith',\n",
              "  5.0,\n",
              "  107.0),\n",
              " ('https://www.airbnb.com/rooms/29204619', 'Ann', 5.0, 108.0),\n",
              " ('https://www.airbnb.com/rooms/633473670831270678',\n",
              "  'Chris & Anna',\n",
              "  5.0,\n",
              "  108.0),\n",
              " ('https://www.airbnb.com/rooms/26129371', 'Resheda & Ralph', 5.0, 111.0),\n",
              " ('https://www.airbnb.com/rooms/47358145', 'Tracey', 5.0, 112.0),\n",
              " ('https://www.airbnb.com/rooms/595210083221991048', 'Evolve', 5.0, 114.0),\n",
              " ('https://www.airbnb.com/rooms/48694733', 'Jessica', 5.0, 116.0),\n",
              " ('https://www.airbnb.com/rooms/642220518382224454',\n",
              "  'Jennifer And Erik',\n",
              "  5.0,\n",
              "  116.0),\n",
              " ('https://www.airbnb.com/rooms/48015175', 'Preston', 5.0, 117.0),\n",
              " ('https://www.airbnb.com/rooms/52552741',\n",
              "  'Cottonwood Properties',\n",
              "  5.0,\n",
              "  119.0),\n",
              " ('https://www.airbnb.com/rooms/647499540261382950', 'Evolve', 5.0, 119.0),\n",
              " ('https://www.airbnb.com/rooms/48250731', 'Jodi', 5.0, 120.0),\n",
              " ('https://www.airbnb.com/rooms/50323786', 'Amy', 5.0, 120.0),\n",
              " ('https://www.airbnb.com/rooms/50730302', 'Scott & Marilou', 5.0, 120.0),\n",
              " ('https://www.airbnb.com/rooms/53547976', 'Thomas', 5.0, 122.0),\n",
              " ('https://www.airbnb.com/rooms/591347919902153728', 'Patti', 5.0, 123.0),\n",
              " ('https://www.airbnb.com/rooms/51761922', 'Adam', 5.0, 125.0),\n",
              " ('https://www.airbnb.com/rooms/52232865', 'Maya', 5.0, 125.0),\n",
              " ('https://www.airbnb.com/rooms/617448135693632973', 'Gwyn', 5.0, 125.0),\n",
              " ('https://www.airbnb.com/rooms/664506620829969409', 'Buna', 5.0, 125.0),\n",
              " ('https://www.airbnb.com/rooms/676863018438068627', 'Lane', 5.0, 125.0),\n",
              " ('https://www.airbnb.com/rooms/703774438391970544', 'Sydney', 5.0, 125.0),\n",
              " ('https://www.airbnb.com/rooms/53310825', 'Joy', 5.0, 127.0),\n",
              " ('https://www.airbnb.com/rooms/53834698', 'Evolve', 5.0, 127.0),\n",
              " ('https://www.airbnb.com/rooms/24894370', 'Laura', 5.0, 128.0),\n",
              " ('https://www.airbnb.com/rooms/673618382327247833', 'Heather', 5.0, 129.0),\n",
              " ('https://www.airbnb.com/rooms/610819616620411711', 'Evolve', 5.0, 130.0),\n",
              " ('https://www.airbnb.com/rooms/48974582', 'Melissa', 5.0, 131.0),\n",
              " ('https://www.airbnb.com/rooms/637846714210146834', 'Mike', 5.0, 133.0),\n",
              " ('https://www.airbnb.com/rooms/53630595', 'Mallia', 5.0, 135.0),\n",
              " ('https://www.airbnb.com/rooms/661619298131144900', 'Greybeard', 5.0, 135.0),\n",
              " ('https://www.airbnb.com/rooms/31906884', 'Will', 5.0, 136.0),\n",
              " ('https://www.airbnb.com/rooms/598540165238320862', 'Jon', 5.0, 136.0),\n",
              " ('https://www.airbnb.com/rooms/619419707858005894', 'Evolve', 5.0, 137.0),\n",
              " ('https://www.airbnb.com/rooms/607489019200529048',\n",
              "  'Byrd Bungalows',\n",
              "  5.0,\n",
              "  138.0),\n",
              " ('https://www.airbnb.com/rooms/602906967916854218', 'Jeff', 5.0, 143.0),\n",
              " ('https://www.airbnb.com/rooms/613153352121668654', 'Gustavo', 5.0, 144.0),\n",
              " ('https://www.airbnb.com/rooms/658501143691247576', 'Ciera', 5.0, 144.0),\n",
              " ('https://www.airbnb.com/rooms/39601430', 'Shane', 5.0, 146.0),\n",
              " ('https://www.airbnb.com/rooms/690726025566206999', 'Jon', 5.0, 147.0),\n",
              " ('https://www.airbnb.com/rooms/41343517', 'Lindsay', 5.0, 148.0),\n",
              " ('https://www.airbnb.com/rooms/45008963', 'Alice', 5.0, 149.0),\n",
              " ('https://www.airbnb.com/rooms/8070733', 'Jacqueline & Savannah', 5.0, 150.0),\n",
              " ('https://www.airbnb.com/rooms/51482414', 'Earl', 5.0, 150.0),\n",
              " ('https://www.airbnb.com/rooms/614302016810761350', 'Jon', 5.0, 150.0),\n",
              " ('https://www.airbnb.com/rooms/660310339680082178', 'Leah', 5.0, 150.0),\n",
              " ('https://www.airbnb.com/rooms/693535146849398838', 'Gene', 5.0, 150.0),\n",
              " ('https://www.airbnb.com/rooms/47891085', 'Cathy', 5.0, 152.0),\n",
              " ('https://www.airbnb.com/rooms/50744484', 'Kelly', 5.0, 156.0),\n",
              " ('https://www.airbnb.com/rooms/49154831', 'Debra', 5.0, 157.0),\n",
              " ('https://www.airbnb.com/rooms/51730225', 'Sandra', 5.0, 157.0),\n",
              " ('https://www.airbnb.com/rooms/615126022901132487', 'Amanda', 5.0, 157.0),\n",
              " ('https://www.airbnb.com/rooms/614432345982798255', 'Debbie', 5.0, 159.0),\n",
              " ('https://www.airbnb.com/rooms/652736678079795454', 'Kathryn', 5.0, 159.0),\n",
              " ('https://www.airbnb.com/rooms/47331141', 'Satsuki', 5.0, 161.0),\n",
              " ('https://www.airbnb.com/rooms/48100107', 'Jill', 5.0, 161.0),\n",
              " ('https://www.airbnb.com/rooms/565845862381025091',\n",
              "  'Robb And Savannah',\n",
              "  5.0,\n",
              "  161.0),\n",
              " ('https://www.airbnb.com/rooms/646209186010299913', 'Robertino', 5.0, 163.0),\n",
              " ('https://www.airbnb.com/rooms/47927179', 'Kelly', 5.0, 167.0),\n",
              " ('https://www.airbnb.com/rooms/54344566', 'Caroline', 5.0, 170.0),\n",
              " ('https://www.airbnb.com/rooms/580942747790788689', 'Heather', 5.0, 170.0),\n",
              " ('https://www.airbnb.com/rooms/563772837868385972',\n",
              "  'Vacasa North Carolina',\n",
              "  5.0,\n",
              "  172.0),\n",
              " ('https://www.airbnb.com/rooms/47204256', 'Mary', 5.0, 173.0),\n",
              " ('https://www.airbnb.com/rooms/42975839', 'Tony And Kathy', 5.0, 175.0),\n",
              " ('https://www.airbnb.com/rooms/568251781810486140', 'Blake', 5.0, 176.0),\n",
              " ('https://www.airbnb.com/rooms/634595938914884160',\n",
              "  'Carolina Mornings',\n",
              "  5.0,\n",
              "  176.0),\n",
              " ('https://www.airbnb.com/rooms/674758651803723764',\n",
              "  'Vacasa North Carolina',\n",
              "  5.0,\n",
              "  177.0),\n",
              " ('https://www.airbnb.com/rooms/47967373', 'Steve', 5.0, 183.0),\n",
              " ('https://www.airbnb.com/rooms/644375426153937840',\n",
              "  'Darlene And Ron',\n",
              "  5.0,\n",
              "  188.0),\n",
              " ('https://www.airbnb.com/rooms/678319551401417857', 'Fyffe', 5.0, 189.0),\n",
              " ('https://www.airbnb.com/rooms/695579240802725782',\n",
              "  'Bright Host',\n",
              "  5.0,\n",
              "  189.0),\n",
              " ('https://www.airbnb.com/rooms/28960407', 'Valerie', 5.0, 190.0),\n",
              " ('https://www.airbnb.com/rooms/642676199912839483', 'Drew', 5.0, 191.0),\n",
              " ('https://www.airbnb.com/rooms/22684155',\n",
              "  'The Lion And The Rose',\n",
              "  5.0,\n",
              "  193.0),\n",
              " ('https://www.airbnb.com/rooms/41191198', 'Martin', 5.0, 193.0),\n",
              " ('https://www.airbnb.com/rooms/700859437931507959',\n",
              "  'Myron And Brittany',\n",
              "  5.0,\n",
              "  196.0),\n",
              " ('https://www.airbnb.com/rooms/52925881', 'Holly', 5.0, 198.0),\n",
              " ('https://www.airbnb.com/rooms/636305129370831620',\n",
              "  'Vacasa North Carolina',\n",
              "  5.0,\n",
              "  201.0),\n",
              " ('https://www.airbnb.com/rooms/22114590',\n",
              "  'The Lion And The Rose',\n",
              "  5.0,\n",
              "  206.0),\n",
              " ('https://www.airbnb.com/rooms/572435816142415498', 'Yonder', 5.0, 207.0),\n",
              " ('https://www.airbnb.com/rooms/51144414', 'Jason', 5.0, 211.0),\n",
              " ('https://www.airbnb.com/rooms/580510064747989621',\n",
              "  'Vacasa North Carolina',\n",
              "  5.0,\n",
              "  213.0),\n",
              " ('https://www.airbnb.com/rooms/49270741', 'David', 5.0, 214.0),\n",
              " ('https://www.airbnb.com/rooms/681984555043356793', 'Timothy', 5.0, 214.0),\n",
              " ('https://www.airbnb.com/rooms/554287209645266715',\n",
              "  'Vacasa North Carolina',\n",
              "  5.0,\n",
              "  216.0),\n",
              " ('https://www.airbnb.com/rooms/665906606740968822', 'Evolve', 5.0, 216.0),\n",
              " ('https://www.airbnb.com/rooms/572435869057083937', 'Yonder', 5.0, 219.0),\n",
              " ('https://www.airbnb.com/rooms/572435736445977863', 'Yonder', 5.0, 220.0),\n",
              " ('https://www.airbnb.com/rooms/43325315', 'Diane', 5.0, 222.0),\n",
              " ('https://www.airbnb.com/rooms/696248283912153327',\n",
              "  'Pure Carolina',\n",
              "  5.0,\n",
              "  222.0),\n",
              " ('https://www.airbnb.com/rooms/49630964', 'Ashton', 5.0, 223.0),\n",
              " ('https://www.airbnb.com/rooms/50042645', 'Susan', 5.0, 226.0),\n",
              " ('https://www.airbnb.com/rooms/46454465', 'Ivan & Sandra', 5.0, 227.0),\n",
              " ('https://www.airbnb.com/rooms/42330339', 'Mary', 5.0, 229.0),\n",
              " ('https://www.airbnb.com/rooms/46711740', 'Brian', 5.0, 230.0),\n",
              " ('https://www.airbnb.com/rooms/54228904', 'Paula', 5.0, 232.0),\n",
              " ('https://www.airbnb.com/rooms/565916956349123822', 'Rebecca', 5.0, 234.0),\n",
              " ('https://www.airbnb.com/rooms/52610975', 'Steve', 5.0, 235.0),\n",
              " ('https://www.airbnb.com/rooms/22684105',\n",
              "  'The Lion And The Rose',\n",
              "  5.0,\n",
              "  236.0),\n",
              " ('https://www.airbnb.com/rooms/572435769734677753', 'Yonder', 5.0, 238.0),\n",
              " ('https://www.airbnb.com/rooms/572435754874186880', 'Yonder', 5.0, 239.0),\n",
              " ('https://www.airbnb.com/rooms/46100337', 'Kellie & Chad', 5.0, 242.0),\n",
              " ('https://www.airbnb.com/rooms/23017092', 'Brennen & Sheila', 5.0, 244.0),\n",
              " ('https://www.airbnb.com/rooms/26721327', 'Brennen & Sheila', 5.0, 244.0),\n",
              " ('https://www.airbnb.com/rooms/572435879484786314', 'Yonder', 5.0, 249.0),\n",
              " ('https://www.airbnb.com/rooms/8664712', 'Frank-Peter', 5.0, 250.0),\n",
              " ('https://www.airbnb.com/rooms/50610553', 'Carrie', 5.0, 250.0),\n",
              " ('https://www.airbnb.com/rooms/705668629737875310', 'Viktor', 5.0, 251.0),\n",
              " ('https://www.airbnb.com/rooms/569548230220825702', 'Towns', 5.0, 252.0),\n",
              " ('https://www.airbnb.com/rooms/49338161', 'Cathy', 5.0, 257.0),\n",
              " ('https://www.airbnb.com/rooms/54316863', 'Caroline', 5.0, 257.0),\n",
              " ('https://www.airbnb.com/rooms/613700249253498876', 'Jennifer', 5.0, 257.0),\n",
              " ('https://www.airbnb.com/rooms/26160335', 'Diane', 5.0, 258.0),\n",
              " ('https://www.airbnb.com/rooms/52705474', 'Darlene And Ron', 5.0, 259.0),\n",
              " ('https://www.airbnb.com/rooms/32671236', 'Peter', 5.0, 260.0),\n",
              " ('https://www.airbnb.com/rooms/32792238', 'Peter', 5.0, 260.0),\n",
              " ('https://www.airbnb.com/rooms/602837548285287102', 'Dave', 5.0, 260.0),\n",
              " ('https://www.airbnb.com/rooms/44131708', 'Diane', 5.0, 263.0),\n",
              " ('https://www.airbnb.com/rooms/52952113', 'Rebecca & Austin', 5.0, 265.0),\n",
              " ('https://www.airbnb.com/rooms/51752014', 'Gene', 5.0, 269.0),\n",
              " ('https://www.airbnb.com/rooms/43325971', 'Diane', 5.0, 273.0),\n",
              " ('https://www.airbnb.com/rooms/52550992', 'Emilie', 5.0, 273.0),\n",
              " ('https://www.airbnb.com/rooms/47758667', 'Michael And Rebecca', 5.0, 276.0),\n",
              " ('https://www.airbnb.com/rooms/572435903541837350', 'Yonder', 5.0, 276.0),\n",
              " ('https://www.airbnb.com/rooms/23748992', 'Stephen', 5.0, 281.0),\n",
              " ('https://www.airbnb.com/rooms/618713104861373049', 'Towns', 5.0, 281.0),\n",
              " ('https://www.airbnb.com/rooms/670931587025967939',\n",
              "  'AC Asheville Downtown',\n",
              "  5.0,\n",
              "  282.0),\n",
              " ('https://www.airbnb.com/rooms/31260089', 'Wende', 5.0, 283.0),\n",
              " ('https://www.airbnb.com/rooms/44385896', 'Sheri', 5.0, 284.0),\n",
              " ('https://www.airbnb.com/rooms/670961343260623487',\n",
              "  'AC Asheville Downtown',\n",
              "  5.0,\n",
              "  292.0),\n",
              " ('https://www.airbnb.com/rooms/45652885', 'Dave And Elyse', 5.0, 294.0),\n",
              " ('https://www.airbnb.com/rooms/12266103', 'Suzy', 5.0, 295.0),\n",
              " ('https://www.airbnb.com/rooms/641304933834393681', 'Yonder', 5.0, 295.0),\n",
              " ('https://www.airbnb.com/rooms/44630954', 'Donna', 5.0, 300.0),\n",
              " ('https://www.airbnb.com/rooms/48731200', 'Dawn', 5.0, 300.0),\n",
              " ('https://www.airbnb.com/rooms/633772538334050339', 'Arvin', 5.0, 302.0),\n",
              " ('https://www.airbnb.com/rooms/44059758', 'Sheri', 5.0, 310.0),\n",
              " ('https://www.airbnb.com/rooms/712284140232798079', 'Tyler', 5.0, 310.0),\n",
              " ('https://www.airbnb.com/rooms/22119778',\n",
              "  'The Lion And The Rose',\n",
              "  5.0,\n",
              "  314.0),\n",
              " ('https://www.airbnb.com/rooms/7063293', 'Birgit', 5.0, 325.0),\n",
              " ('https://www.airbnb.com/rooms/50230575', 'Karen', 5.0, 325.0),\n",
              " ('https://www.airbnb.com/rooms/52736029', 'Agnes', 5.0, 326.0),\n",
              " ('https://www.airbnb.com/rooms/668106311195140820',\n",
              "  'Mighty Tree Properties',\n",
              "  5.0,\n",
              "  328.0),\n",
              " ('https://www.airbnb.com/rooms/33807319', 'Alicia', 5.0, 331.0),\n",
              " ('https://www.airbnb.com/rooms/670211202440959730',\n",
              "  'Kimpton Hotel Arras',\n",
              "  5.0,\n",
              "  332.0),\n",
              " ('https://www.airbnb.com/rooms/33807985', 'Alicia', 5.0, 337.0),\n",
              " ('https://www.airbnb.com/rooms/658517258882985610', 'Arras', 5.0, 347.0),\n",
              " ('https://www.airbnb.com/rooms/52991459', 'Jason', 5.0, 350.0),\n",
              " ('https://www.airbnb.com/rooms/45608234', 'Towns', 5.0, 352.0),\n",
              " ('https://www.airbnb.com/rooms/635479299986877171', 'Yonder', 5.0, 352.0),\n",
              " ('https://www.airbnb.com/rooms/44062951', 'Sheri', 5.0, 353.0),\n",
              " ('https://www.airbnb.com/rooms/52198477', 'Matthew', 5.0, 358.0),\n",
              " ('https://www.airbnb.com/rooms/48899545', 'Yonder', 5.0, 377.0),\n",
              " ('https://www.airbnb.com/rooms/569548244798677981', 'Towns', 5.0, 395.0),\n",
              " ('https://www.airbnb.com/rooms/625358586777386062', 'Towns', 5.0, 395.0),\n",
              " ('https://www.airbnb.com/rooms/48154973', 'Brian', 5.0, 396.0),\n",
              " ('https://www.airbnb.com/rooms/51957993',\n",
              "  'Elevation Lofts Hotel',\n",
              "  5.0,\n",
              "  396.0),\n",
              " ('https://www.airbnb.com/rooms/50587814', 'Carolina Mornings', 5.0, 399.0),\n",
              " ('https://www.airbnb.com/rooms/554287209089655300',\n",
              "  'Vacasa North Carolina',\n",
              "  5.0,\n",
              "  400.0),\n",
              " ('https://www.airbnb.com/rooms/696568972343201433', 'Gene', 5.0, 400.0),\n",
              " ('https://www.airbnb.com/rooms/21278647', 'Aaron', 5.0, 407.0),\n",
              " ('https://www.airbnb.com/rooms/37212994', 'Jessica', 5.0, 425.0),\n",
              " ('https://www.airbnb.com/rooms/51796389', 'Andy', 5.0, 425.0),\n",
              " ('https://www.airbnb.com/rooms/602689442984691613',\n",
              "  'Carolina Mornings',\n",
              "  5.0,\n",
              "  428.0),\n",
              " ('https://www.airbnb.com/rooms/29663310', 'Carolina Mornings', 5.0, 441.0),\n",
              " ('https://www.airbnb.com/rooms/53845486', 'Yonder', 5.0, 447.0),\n",
              " ('https://www.airbnb.com/rooms/33807444', 'Alicia', 5.0, 468.0),\n",
              " ('https://www.airbnb.com/rooms/48028960', 'Towns', 5.0, 481.0),\n",
              " ('https://www.airbnb.com/rooms/49052453', 'Michele', 5.0, 481.0),\n",
              " ('https://www.airbnb.com/rooms/619483022361673632', 'Ben', 5.0, 483.0),\n",
              " ('https://www.airbnb.com/rooms/51309708', 'Towns', 5.0, 495.0),\n",
              " ('https://www.airbnb.com/rooms/52899477', 'Robert', 5.0, 499.0),\n",
              " ('https://www.airbnb.com/rooms/659427041564978528',\n",
              "  'Bright Host',\n",
              "  5.0,\n",
              "  516.0),\n",
              " ('https://www.airbnb.com/rooms/628370434306614889', 'Joe', 5.0, 534.0),\n",
              " ('https://www.airbnb.com/rooms/49565047', 'Evolve', 5.0, 537.0),\n",
              " ('https://www.airbnb.com/rooms/564465514725800559', 'Rachel', 5.0, 547.0),\n",
              " ('https://www.airbnb.com/rooms/51883226',\n",
              "  'Elevation Lofts Hotel',\n",
              "  5.0,\n",
              "  548.0),\n",
              " ('https://www.airbnb.com/rooms/573788729255175815', 'Lois', 5.0, 550.0),\n",
              " ('https://www.airbnb.com/rooms/31414815', 'Terri & Carl', 5.0, 573.0),\n",
              " ('https://www.airbnb.com/rooms/52263620', 'Jay', 5.0, 584.0),\n",
              " ('https://www.airbnb.com/rooms/51957373',\n",
              "  'Elevation Lofts Hotel',\n",
              "  5.0,\n",
              "  592.0),\n",
              " ('https://www.airbnb.com/rooms/41509293', 'Sheri', 5.0, 657.0),\n",
              " ('https://www.airbnb.com/rooms/623153656813826582', 'Yonder', 5.0, 665.0),\n",
              " ('https://www.airbnb.com/rooms/554759394399258737',\n",
              "  'Vacasa North Carolina',\n",
              "  5.0,\n",
              "  675.0),\n",
              " ('https://www.airbnb.com/rooms/27289254', 'Jay', 5.0, 696.0),\n",
              " ('https://www.airbnb.com/rooms/29793507', 'Jay', 5.0, 713.0),\n",
              " ('https://www.airbnb.com/rooms/628461064690284940', 'Eliot', 5.0, 794.0),\n",
              " ('https://www.airbnb.com/rooms/42986594', 'Yonder', 5.0, 838.0),\n",
              " ('https://www.airbnb.com/rooms/51957729',\n",
              "  'Elevation Lofts Hotel',\n",
              "  5.0,\n",
              "  843.0),\n",
              " ('https://www.airbnb.com/rooms/48672808', 'Yonder', 5.0, 846.0),\n",
              " ('https://www.airbnb.com/rooms/48010459', 'Jay', 5.0, 889.0),\n",
              " ('https://www.airbnb.com/rooms/48672814', 'Yonder', 5.0, 900.0),\n",
              " ('https://www.airbnb.com/rooms/35918507', 'Yonder', 5.0, 965.0),\n",
              " ('https://www.airbnb.com/rooms/54184393', 'Mary', 5.0, 995.0),\n",
              " ('https://www.airbnb.com/rooms/669756483535908337', 'Mark', 5.0, 999.0),\n",
              " ('https://www.airbnb.com/rooms/34441424', 'Yonder', 5.0, 1002.0),\n",
              " ('https://www.airbnb.com/rooms/44063035', 'Sheri', 5.0, 1323.0)]"
            ]
          },
          "metadata": {},
          "execution_count": 223
        }
      ]
    }
  ]
}
