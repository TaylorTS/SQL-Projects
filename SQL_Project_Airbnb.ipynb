{
  "nbformat": 4,
  "nbformat_minor": 0,
  "metadata": {
    "colab": {
      "provenance": [],
      "toc_visible": true
    },
    "kernelspec": {
      "name": "python3",
      "display_name": "Python 3"
    },
    "language_info": {
      "name": "python"
    }
  },
  "cells": [
    {
      "cell_type": "code",
      "source": [
        "# The dataset used in this project was downloaded from http://insideairbnb.com.\n",
        "# using pandas to read in the dataset\n",
        "import pandas as pd\n",
        "df = pd.read_csv('/content/Ash_listing.csv') \n",
        "pd.set_option('display.max_columns', None)\n",
        "pd.set_option('display.max_rows', 5)"
      ],
      "metadata": {
        "id": "N8R-KMN1bMZr"
      },
      "execution_count": null,
      "outputs": []
    },
    {
      "cell_type": "code",
      "source": [
        "#check the dataframe\n",
        "df.info()\n",
        "df.index\n",
        "df.columns"
      ],
      "metadata": {
        "colab": {
          "base_uri": "https://localhost:8080/"
        },
        "id": "lPSWI0iOcX14",
        "outputId": "ad13d933-cff0-43d1-a199-157086d37302"
      },
      "execution_count": 143,
      "outputs": [
        {
          "output_type": "stream",
          "name": "stdout",
          "text": [
            "<class 'pandas.core.frame.DataFrame'>\n",
            "RangeIndex: 3009 entries, 0 to 3008\n",
            "Data columns (total 75 columns):\n",
            " #   Column                                        Non-Null Count  Dtype  \n",
            "---  ------                                        --------------  -----  \n",
            " 0   id                                            3009 non-null   int64  \n",
            " 1   listing_url                                   3009 non-null   object \n",
            " 2   scrape_id                                     3009 non-null   int64  \n",
            " 3   last_scraped                                  3009 non-null   object \n",
            " 4   source                                        3009 non-null   object \n",
            " 5   name                                          3009 non-null   object \n",
            " 6   description                                   3004 non-null   object \n",
            " 7   neighborhood_overview                         2290 non-null   object \n",
            " 8   picture_url                                   3009 non-null   object \n",
            " 9   host_id                                       3009 non-null   int64  \n",
            " 10  host_url                                      3009 non-null   object \n",
            " 11  host_name                                     3009 non-null   object \n",
            " 12  host_since                                    3009 non-null   object \n",
            " 13  host_location                                 2604 non-null   object \n",
            " 14  host_about                                    1929 non-null   object \n",
            " 15  host_response_time                            2722 non-null   object \n",
            " 16  host_response_rate                            2722 non-null   object \n",
            " 17  host_acceptance_rate                          2850 non-null   object \n",
            " 18  host_is_superhost                             3009 non-null   object \n",
            " 19  host_thumbnail_url                            3009 non-null   object \n",
            " 20  host_picture_url                              3009 non-null   object \n",
            " 21  host_neighbourhood                            925 non-null    object \n",
            " 22  host_listings_count                           3009 non-null   int64  \n",
            " 23  host_total_listings_count                     3009 non-null   int64  \n",
            " 24  host_verifications                            3009 non-null   object \n",
            " 25  host_has_profile_pic                          3009 non-null   object \n",
            " 26  host_identity_verified                        3009 non-null   object \n",
            " 27  neighbourhood                                 2291 non-null   object \n",
            " 28  neighbourhood_cleansed                        3009 non-null   int64  \n",
            " 29  neighbourhood_group_cleansed                  0 non-null      float64\n",
            " 30  latitude                                      3009 non-null   float64\n",
            " 31  longitude                                     3009 non-null   float64\n",
            " 32  property_type                                 3009 non-null   object \n",
            " 33  room_type                                     3009 non-null   object \n",
            " 34  accommodates                                  3009 non-null   int64  \n",
            " 35  bathrooms                                     0 non-null      float64\n",
            " 36  bathrooms_text                                3008 non-null   object \n",
            " 37  bedrooms                                      2850 non-null   float64\n",
            " 38  beds                                          2980 non-null   float64\n",
            " 39  amenities                                     3009 non-null   object \n",
            " 40  price                                         3009 non-null   object \n",
            " 41  minimum_nights                                3009 non-null   int64  \n",
            " 42  maximum_nights                                3009 non-null   int64  \n",
            " 43  minimum_minimum_nights                        3009 non-null   int64  \n",
            " 44  maximum_minimum_nights                        3009 non-null   int64  \n",
            " 45  minimum_maximum_nights                        3009 non-null   int64  \n",
            " 46  maximum_maximum_nights                        3009 non-null   int64  \n",
            " 47  minimum_nights_avg_ntm                        3009 non-null   float64\n",
            " 48  maximum_nights_avg_ntm                        3009 non-null   float64\n",
            " 49  calendar_updated                              0 non-null      float64\n",
            " 50  has_availability                              3009 non-null   object \n",
            " 51  availability_30                               3009 non-null   int64  \n",
            " 52  availability_60                               3009 non-null   int64  \n",
            " 53  availability_90                               3009 non-null   int64  \n",
            " 54  availability_365                              3009 non-null   int64  \n",
            " 55  calendar_last_scraped                         3009 non-null   object \n",
            " 56  number_of_reviews                             3009 non-null   int64  \n",
            " 57  number_of_reviews_ltm                         3009 non-null   int64  \n",
            " 58  number_of_reviews_l30d                        3009 non-null   int64  \n",
            " 59  first_review                                  2817 non-null   object \n",
            " 60  last_review                                   2817 non-null   object \n",
            " 61  review_scores_rating                          2817 non-null   float64\n",
            " 62  review_scores_accuracy                        2816 non-null   float64\n",
            " 63  review_scores_cleanliness                     2816 non-null   float64\n",
            " 64  review_scores_checkin                         2816 non-null   float64\n",
            " 65  review_scores_communication                   2816 non-null   float64\n",
            " 66  review_scores_location                        2816 non-null   float64\n",
            " 67  review_scores_value                           2816 non-null   float64\n",
            " 68  license                                       0 non-null      float64\n",
            " 69  instant_bookable                              3009 non-null   object \n",
            " 70  calculated_host_listings_count                3009 non-null   int64  \n",
            " 71  calculated_host_listings_count_entire_homes   3009 non-null   int64  \n",
            " 72  calculated_host_listings_count_private_rooms  3009 non-null   int64  \n",
            " 73  calculated_host_listings_count_shared_rooms   3009 non-null   int64  \n",
            " 74  reviews_per_month                             2817 non-null   float64\n",
            "dtypes: float64(18), int64(24), object(33)\n",
            "memory usage: 1.7+ MB\n"
          ]
        },
        {
          "output_type": "execute_result",
          "data": {
            "text/plain": [
              "Index(['id', 'listing_url', 'scrape_id', 'last_scraped', 'source', 'name',\n",
              "       'description', 'neighborhood_overview', 'picture_url', 'host_id',\n",
              "       'host_url', 'host_name', 'host_since', 'host_location', 'host_about',\n",
              "       'host_response_time', 'host_response_rate', 'host_acceptance_rate',\n",
              "       'host_is_superhost', 'host_thumbnail_url', 'host_picture_url',\n",
              "       'host_neighbourhood', 'host_listings_count',\n",
              "       'host_total_listings_count', 'host_verifications',\n",
              "       'host_has_profile_pic', 'host_identity_verified', 'neighbourhood',\n",
              "       'neighbourhood_cleansed', 'neighbourhood_group_cleansed', 'latitude',\n",
              "       'longitude', 'property_type', 'room_type', 'accommodates', 'bathrooms',\n",
              "       'bathrooms_text', 'bedrooms', 'beds', 'amenities', 'price',\n",
              "       'minimum_nights', 'maximum_nights', 'minimum_minimum_nights',\n",
              "       'maximum_minimum_nights', 'minimum_maximum_nights',\n",
              "       'maximum_maximum_nights', 'minimum_nights_avg_ntm',\n",
              "       'maximum_nights_avg_ntm', 'calendar_updated', 'has_availability',\n",
              "       'availability_30', 'availability_60', 'availability_90',\n",
              "       'availability_365', 'calendar_last_scraped', 'number_of_reviews',\n",
              "       'number_of_reviews_ltm', 'number_of_reviews_l30d', 'first_review',\n",
              "       'last_review', 'review_scores_rating', 'review_scores_accuracy',\n",
              "       'review_scores_cleanliness', 'review_scores_checkin',\n",
              "       'review_scores_communication', 'review_scores_location',\n",
              "       'review_scores_value', 'license', 'instant_bookable',\n",
              "       'calculated_host_listings_count',\n",
              "       'calculated_host_listings_count_entire_homes',\n",
              "       'calculated_host_listings_count_private_rooms',\n",
              "       'calculated_host_listings_count_shared_rooms', 'reviews_per_month'],\n",
              "      dtype='object')"
            ]
          },
          "metadata": {},
          "execution_count": 143
        }
      ]
    },
    {
      "cell_type": "code",
      "source": [
        "#Remove the dollar signs in 'price'\n",
        "df['price'] = df['price'].replace('$', '')"
      ],
      "metadata": {
        "id": "c_fcfnE_yZQo"
      },
      "execution_count": null,
      "outputs": []
    },
    {
      "cell_type": "code",
      "source": [
        "#some fields are irrelevant for this project, so a few columns were dropped\n",
        "df_new = df.drop(['scrape_id', 'last_scraped', 'picture_url', 'host_id', \n",
        "         'host_url','host_thumbnail_url', 'host_picture_url', 'source'], axis = 1)"
      ],
      "metadata": {
        "id": "C2ZN0APjdDLz"
      },
      "execution_count": 146,
      "outputs": []
    },
    {
      "cell_type": "code",
      "source": [
        "#now that the dataset is ready to use, convert it into a sql table\n",
        "import sqlite3\n",
        "conn = sqlite3.connect('/df_new.db')\n",
        "df_new.to_sql('new', conn, if_exists='replace', index=False)"
      ],
      "metadata": {
        "id": "Op19YjiPjrj-"
      },
      "execution_count": 147,
      "outputs": []
    },
    {
      "cell_type": "code",
      "source": [
        "#execute sql queries-testing if the dataset has been converted successfully\n",
        "conn.execute(\"\"\"\n",
        "select id\n",
        "from new\n",
        "limit 5\n",
        "\"\"\").fetchall()"
      ],
      "metadata": {
        "colab": {
          "base_uri": "https://localhost:8080/"
        },
        "id": "RDdtUCywvq7a",
        "outputId": "62e9db58-f851-4310-f5f4-d2690f73e9ab"
      },
      "execution_count": 148,
      "outputs": [
        {
          "output_type": "execute_result",
          "data": {
            "text/plain": [
              "[(108061,), (155305,), (156805,), (156926,), (197263,)]"
            ]
          },
          "metadata": {},
          "execution_count": 148
        }
      ]
    },
    {
      "cell_type": "markdown",
      "source": [
        "Question 1: What property type is the most expensive property in this dataset? How much does it cost to rent this type of property on average?"
      ],
      "metadata": {
        "id": "wh-9R8_BzbUO"
      }
    },
    {
      "cell_type": "code",
      "source": [
        "#thought process: calculate the average price listing by property types. Round to 2 decimal places. To save some space, only 15 rows are displayed\n",
        "conn.execute(\"\"\"\n",
        "  select property_type, round(avg(price),2) as \"average_price\"\n",
        "  from new\n",
        "  group by property_type \n",
        "  order by average_price desc\n",
        "  limit 15\n",
        "\"\"\").fetchall()"
      ],
      "metadata": {
        "colab": {
          "base_uri": "https://localhost:8080/"
        },
        "id": "6yRq6JOMwe7z",
        "outputId": "3a4b44de-da38-4222-ee11-a02838db76fb"
      },
      "execution_count": 149,
      "outputs": [
        {
          "output_type": "execute_result",
          "data": {
            "text/plain": [
              "[('Room in boutique hotel', 647.61),\n",
              " ('Room in bed and breakfast', 352.21),\n",
              " ('Entire chalet', 346.86),\n",
              " ('Entire vacation home', 307.75),\n",
              " ('Entire villa', 277.5),\n",
              " ('Treehouse', 273.33),\n",
              " ('Entire townhouse', 268.27),\n",
              " ('Entire condo', 251.08),\n",
              " ('Shared room in rental unit', 250.0),\n",
              " ('Entire loft', 235.28),\n",
              " ('Private room in bed and breakfast', 233.35),\n",
              " ('Entire cabin', 217.84),\n",
              " ('Entire home', 215.19),\n",
              " ('Private room in hostel', 214.67),\n",
              " ('Room in hotel', 186.5)]"
            ]
          },
          "metadata": {},
          "execution_count": 149
        }
      ]
    },
    {
      "cell_type": "markdown",
      "source": [
        "Answer to question 1: Rooms in boutique hotel cost the most on average at a rate of $647.61 "
      ],
      "metadata": {
        "id": "JLF9pYhpzPN2"
      }
    },
    {
      "cell_type": "markdown",
      "source": [
        "Question 2: what type of property is the most reasonably priced?"
      ],
      "metadata": {
        "id": "3elVJhBG4iiX"
      }
    },
    {
      "cell_type": "code",
      "source": [
        "conn.execute(\"\"\"\n",
        "  select a.property_type\n",
        "  from (select property_type, round(avg(price),2) as 'average_price'\n",
        "        from new\n",
        "        group by property_type\n",
        "        order by average_price\n",
        "        limit 1) as a\n",
        "\"\"\").fetchall()"
      ],
      "metadata": {
        "colab": {
          "base_uri": "https://localhost:8080/"
        },
        "id": "GF8wiYyozxWH",
        "outputId": "a3923f55-7b27-4241-c349-fcd775573317"
      },
      "execution_count": null,
      "outputs": [
        {
          "output_type": "execute_result",
          "data": {
            "text/plain": [
              "[('Private room in hut',)]"
            ]
          },
          "metadata": {},
          "execution_count": 142
        }
      ]
    },
    {
      "cell_type": "markdown",
      "source": [
        "Question 3: I'd like to look for something immediately availabe and has the highest rating. Is it possible? If so, how much does it cost per night?"
      ],
      "metadata": {
        "id": "GGWxS65Livfj"
      }
    },
    {
      "cell_type": "code",
      "source": [
        "#highest rating in 2021\n",
        "conn.execute(\"\"\"\n",
        "  select listing_url, host_name, max(review_scores_rating), price\n",
        "  from new\n",
        "  where instant_bookable = 't' and availability_30 > 5\n",
        "\"\"\").fetchall()"
      ],
      "metadata": {
        "colab": {
          "base_uri": "https://localhost:8080/"
        },
        "id": "26V5wRCzg7a5",
        "outputId": "40431329-1ab1-4761-8793-5b244d0b74e8"
      },
      "execution_count": 150,
      "outputs": [
        {
          "output_type": "execute_result",
          "data": {
            "text/plain": [
              "[('https://www.airbnb.com/rooms/8070733',\n",
              "  'Jacqueline & Savannah',\n",
              "  5.0,\n",
              "  '150.00')]"
            ]
          },
          "metadata": {},
          "execution_count": 150
        }
      ]
    },
    {
      "cell_type": "code",
      "source": [],
      "metadata": {
        "id": "zCaGh0DbiMPh"
      },
      "execution_count": null,
      "outputs": []
    }
  ]
}